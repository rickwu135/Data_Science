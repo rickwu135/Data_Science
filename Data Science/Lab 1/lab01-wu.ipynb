{
 "cells": [
  {
   "cell_type": "markdown",
   "metadata": {},
   "source": [
    "# Part 2. Vector and Matrix"
   ]
  },
  {
   "cell_type": "markdown",
   "metadata": {},
   "source": [
    "In this lab, we will learn how to use Python to operate vectors and matrices. "
   ]
  },
  {
   "cell_type": "markdown",
   "metadata": {},
   "source": [
    "## 1. Example"
   ]
  },
  {
   "cell_type": "markdown",
   "metadata": {},
   "source": [
    "### 1.1 Load data with pandas"
   ]
  },
  {
   "cell_type": "code",
   "execution_count": 3,
   "metadata": {},
   "outputs": [
    {
     "name": "stdout",
     "output_type": "stream",
     "text": [
      "<class 'numpy.ndarray'>\n",
      "(406, 7)\n",
      "[[18.0 8 307.0 ... 3504 12.0 70]\n",
      " [15.0 8 350.0 ... 3693 11.5 70]\n",
      " [18.0 8 318.0 ... 3436 11.0 70]\n",
      " ...\n",
      " [32.0 4 135.0 ... 2295 11.6 82]\n",
      " [28.0 4 120.0 ... 2625 18.6 82]\n",
      " [31.0 4 119.0 ... 2720 19.4 82]]\n"
     ]
    }
   ],
   "source": [
    "import numpy as np\n",
    "import pandas as pd\n",
    "\n",
    "# load data with pandas\n",
    "df = pd.read_csv('cars.csv')\n",
    "# print(df)\n",
    "\n",
    "# convert a pandas dataframe to a numpy array\n",
    "X = df.values[:, 1:-1]\n",
    "print(type(X))\n",
    "print(X.shape)\n",
    "print(X)"
   ]
  },
  {
   "cell_type": "markdown",
   "metadata": {},
   "source": [
    "### 1.2 Operation for vector"
   ]
  },
  {
   "cell_type": "code",
   "execution_count": 29,
   "metadata": {},
   "outputs": [
    {
     "name": "stdout",
     "output_type": "stream",
     "text": [
      "[18.0 8 307.0 130 3504 12.0 70]\n",
      "[28.0 4 120.0 79 2625 18.6 82]\n",
      "[46.0 12 427.0 209 6129 30.6 152]\n"
     ]
    }
   ],
   "source": [
    "#Get first row and the second to last row\n",
    "\n",
    "x1 = X[0, :]\n",
    "x2 = X[-2, :]\n",
    "\n",
    "print(x1)\n",
    "print(x2)\n",
    "\n",
    "# Addition\n",
    "\n",
    "y = x1 + x2\n",
    "print(y)"
   ]
  },
  {
   "cell_type": "markdown",
   "metadata": {},
   "source": [
    "### 1.3 Operation for matrix"
   ]
  },
  {
   "cell_type": "code",
   "execution_count": 32,
   "metadata": {},
   "outputs": [
    {
     "name": "stdout",
     "output_type": "stream",
     "text": [
      "[[18.0 8 307.0 130 3504 12.0 70]\n",
      " [15.0 8 350.0 165 3693 11.5 70]\n",
      " [18.0 8 318.0 150 3436 11.0 70]\n",
      " [16.0 8 304.0 150 3433 12.0 70]\n",
      " [17.0 8 302.0 140 3449 10.5 70]]\n",
      "[[27.0 4 140.0 86 2790 15.6 82]\n",
      " [44.0 4 97.0 52 2130 24.6 82]\n",
      " [32.0 4 135.0 84 2295 11.6 82]\n",
      " [28.0 4 120.0 79 2625 18.6 82]\n",
      " [31.0 4 119.0 82 2720 19.4 82]]\n",
      "[[-9.0 4 167.0 44 714 -3.5999999999999996 -12]\n",
      " [-29.0 4 253.0 113 1563 -13.100000000000001 -12]\n",
      " [-14.0 4 183.0 66 1141 -0.5999999999999996 -12]\n",
      " [-12.0 4 184.0 71 808 -6.600000000000001 -12]\n",
      " [-14.0 4 183.0 58 729 -8.899999999999999 -12]]\n"
     ]
    }
   ],
   "source": [
    "# Get first 5 rows and last 5 rows \n",
    "\n",
    "m1 = X[0:5, :]\n",
    "m2 = X[-5:, :]\n",
    "\n",
    "print(m1)\n",
    "print(m2)\n",
    "\n",
    "# Subtraction\n",
    "m = m1 - m2\n",
    "print(m)"
   ]
  },
  {
   "cell_type": "markdown",
   "metadata": {},
   "source": [
    "## 2 Task"
   ]
  },
  {
   "cell_type": "markdown",
   "metadata": {},
   "source": [
    "### 2.1 Get the first column and the second to last column from X"
   ]
  },
  {
   "cell_type": "code",
   "execution_count": 30,
   "metadata": {},
   "outputs": [
    {
     "name": "stdout",
     "output_type": "stream",
     "text": [
      "[18.0 15.0 18.0 16.0 17.0 15.0 14.0 14.0 14.0 15.0]\n",
      "[70 70 70 70 70 70 70 70 70 70]\n"
     ]
    }
   ],
   "source": [
    "# this is your code to get two vectors\n",
    "c1 = X[:, 0]\n",
    "c2 = X[:, -1]\n",
    "print(c1[0:10])\n",
    "print(c2[0:10])"
   ]
  },
  {
   "cell_type": "markdown",
   "metadata": {},
   "source": [
    "### 2.2 Perform following operations on these two vectors and print the result"
   ]
  },
  {
   "cell_type": "code",
   "execution_count": 33,
   "metadata": {},
   "outputs": [
    {
     "name": "stdout",
     "output_type": "stream",
     "text": [
      "Addition: [88.0 85.0 88.0 86.0 87.0 85.0 84.0 84.0 84.0 85.0]\n",
      "Subtraction: [-52.0 -55.0 -52.0 -54.0 -53.0 -55.0 -56.0 -56.0 -56.0 -55.0]\n",
      "Element multiplication: [1260.0 1050.0 1260.0 1120.0 1190.0 1050.0 980.0 980.0 980.0 1050.0]\n",
      "Inner product: 718009.0999999995\n",
      "l1: 9358.800000000003\n",
      "l2: 494.28813459357895\n",
      "max_norm: 46.6\n",
      "Distance: 21465.199999999993\n"
     ]
    }
   ],
   "source": [
    "\n",
    "# 1. addition and subtraction\n",
    "add = c1 + c2\n",
    "subtr = c1 - c2\n",
    "print(f\"Addition: {add[0:10]}\")\n",
    "print(f\"Subtraction: {subtr[0:10]}\")\n",
    "# 2. element-wise multiplication\n",
    "multi = np.multiply(c1, c2)\n",
    "print(f\"Element multiplication: {multi[0:10]}\")\n",
    "# 3. inner product\n",
    "inner = np.inner(c1,c2)\n",
    "print(f\"Inner product: {inner}\")\n",
    "# 4. three norms\n",
    "l1 = np.linalg.norm(c1, ord=1)\n",
    "l2 = np.linalg.norm(c1, ord=2)\n",
    "max_norm = np.linalg.norm(c1 ,ord=np.inf)\n",
    "print(f\"l1: {l1}\")\n",
    "print(f\"l2: {l2}\")\n",
    "print(f\"max_norm: {max_norm}\")\n",
    "# 5. compute the distance between these two vectors\n",
    "dista = np.linalg.norm(c2-c1, ord=1)\n",
    "print(f\"Distance: {dista}\")"
   ]
  },
  {
   "cell_type": "markdown",
   "metadata": {},
   "source": [
    "### 2.3 Get the first three columns and the last three columns from X"
   ]
  },
  {
   "cell_type": "code",
   "execution_count": 37,
   "metadata": {},
   "outputs": [
    {
     "name": "stdout",
     "output_type": "stream",
     "text": [
      "[[18.0 8 307.0]\n",
      " [15.0 8 350.0]\n",
      " [18.0 8 318.0]\n",
      " [16.0 8 304.0]\n",
      " [17.0 8 302.0]\n",
      " [15.0 8 429.0]\n",
      " [14.0 8 454.0]\n",
      " [14.0 8 440.0]\n",
      " [14.0 8 455.0]\n",
      " [15.0 8 390.0]]\n",
      "\n",
      "[[3504 12.0 70]\n",
      " [3693 11.5 70]\n",
      " [3436 11.0 70]\n",
      " [3433 12.0 70]\n",
      " [3449 10.5 70]\n",
      " [4341 10.0 70]\n",
      " [4354 9.0 70]\n",
      " [4312 8.5 70]\n",
      " [4425 10.0 70]\n",
      " [3850 8.5 70]]\n"
     ]
    }
   ],
   "source": [
    "# this is your code to get two matrices: A, B\n",
    "d1 = X[:, 0:3]\n",
    "d2 = X[:, -3:]\n",
    "print(d1[0:10])\n",
    "print()\n",
    "print(d2[0:10])"
   ]
  },
  {
   "cell_type": "markdown",
   "metadata": {},
   "source": [
    "### 2.4 Perform following operations on these two matrices and print the result"
   ]
  },
  {
   "cell_type": "code",
   "execution_count": 51,
   "metadata": {
    "scrolled": true
   },
   "outputs": [
    {
     "name": "stdout",
     "output_type": "stream",
     "text": [
      "[[3522.0 20.0 377.0]\n",
      " [3708.0 19.5 420.0]\n",
      " [3454.0 19.0 388.0]\n",
      " [3449.0 20.0 374.0]\n",
      " [3466.0 18.5 372.0]]\n",
      "\n",
      "[[-3486.0 -4.0 237.0]\n",
      " [-3678.0 -3.5 280.0]\n",
      " [-3418.0 -3.0 248.0]\n",
      " [-3417.0 -4.0 234.0]\n",
      " [-3432.0 -2.5 232.0]]\n",
      "C shape: (3, 406)\n",
      "Product result: [[84658.0 88056.0 83426.0 ... 66576.8 72572.8 74289.2]\n",
      " [77156.0 79987.0 76128.0 ... 63217.8 68223.8 69655.2]\n",
      " [85428.0 88826.0 84196.0 ... 67478.8 73474.8 75191.2]\n",
      " ...\n",
      " [121626.0 127672.0 119446.0 ... 84556.4 95144.4 98187.6]\n",
      " [106560.0 111850.0 104652.0 ... 74146.4 83414.4 86077.6]\n",
      " [117002.0 122859.0 114890.0 ... 80949.4 91207.4 94155.6]]\n",
      "Product shape: (406, 406)\n",
      "D shape: (3, 406)\n",
      "Product result: [[25614040.900000002 149295.04000000004 718009.0999999995]\n",
      " [7149030 33484.69999999997 167835]\n",
      " [269175402.0 1160836.2999999998 5943079.0]]\n",
      "Product shape: (3, 3)\n"
     ]
    }
   ],
   "source": [
    "# 1. addition and subtraction\n",
    "add2 = d1 + d2\n",
    "sub2 = d1 - d2\n",
    "print(add2[0:5])\n",
    "print()\n",
    "print(sub2[0:5])\n",
    "\n",
    "# 2. compute the transpose of the second matrix: C = B^T, and print the shape of C\n",
    "C = np.transpose(d2)\n",
    "print(f\"C shape: {C.shape}\")\n",
    "# 3. compute the product between A and C, and print the result and its shape\n",
    "prod = np.matmul(d1, C)\n",
    "print(f\"Product result: {prod}\")\n",
    "print(f\"Product shape: {prod.shape}\")\n",
    "# 4. compute the transpose of the first matrix: D = A^T, and print the shape of D\n",
    "D = np.transpose(d1)\n",
    "print(f\"D shape: {D.shape}\")\n",
    "# 5. compute the product between D and B, and print the result and its shape\n",
    "prod2 = np.matmul(D, d2)\n",
    "print(f\"Product result: {prod2}\")\n",
    "print(f\"Product shape: {prod2.shape}\")"
   ]
  },
  {
   "cell_type": "code",
   "execution_count": 1,
   "metadata": {},
   "outputs": [],
   "source": []
  },
  {
   "cell_type": "code",
   "execution_count": null,
   "metadata": {},
   "outputs": [],
   "source": []
  }
 ],
 "metadata": {
  "kernelspec": {
   "display_name": "Python 3 (ipykernel)",
   "language": "python",
   "name": "python3"
  },
  "language_info": {
   "codemirror_mode": {
    "name": "ipython",
    "version": 3
   },
   "file_extension": ".py",
   "mimetype": "text/x-python",
   "name": "python",
   "nbconvert_exporter": "python",
   "pygments_lexer": "ipython3",
   "version": "3.9.13"
  }
 },
 "nbformat": 4,
 "nbformat_minor": 2
}
